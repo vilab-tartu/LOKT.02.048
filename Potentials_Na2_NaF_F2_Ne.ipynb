{
 "cells": [
  {
   "cell_type": "code",
   "execution_count": 70,
   "metadata": {},
   "outputs": [],
   "source": [
    "import matplotlib.pyplot as plt\n",
    "import numpy as np\n",
    "from sympy import *\n",
    "from sympy.plotting import plot, plot_parametric\n",
    "from sympy.functions import exp\n",
    "import scipy.constants as sc"
   ]
  },
  {
   "cell_type": "markdown",
   "metadata": {},
   "source": [
    "# Pair-wise potentials"
   ]
  },
  {
   "cell_type": "code",
   "execution_count": 71,
   "metadata": {},
   "outputs": [],
   "source": [
    "r, r_0, D_e = symbols('r r_0 D_e')"
   ]
  },
  {
   "cell_type": "markdown",
   "metadata": {},
   "source": [
    "## Lennard-Jones"
   ]
  },
  {
   "cell_type": "code",
   "execution_count": 72,
   "metadata": {},
   "outputs": [],
   "source": [
    "V_LJ = D_e*((r_0/r)**12-2*(r_0/r)**6)"
   ]
  },
  {
   "cell_type": "code",
   "execution_count": 73,
   "metadata": {},
   "outputs": [
    {
     "data": {
      "text/latex": [
       "$\\displaystyle D_{e} \\left(- \\frac{2 r_{0}^{6}}{r^{6}} + \\frac{r_{0}^{12}}{r^{12}}\\right)$"
      ],
      "text/plain": [
       "D_e*(-2*r_0**6/r**6 + r_0**12/r**12)"
      ]
     },
     "execution_count": 73,
     "metadata": {},
     "output_type": "execute_result"
    }
   ],
   "source": [
    "V_LJ"
   ]
  },
  {
   "cell_type": "code",
   "execution_count": 74,
   "metadata": {},
   "outputs": [
    {
     "data": {
      "text/latex": [
       "$\\displaystyle D_{e} \\left(\\frac{12 r_{0}^{6}}{r^{7}} - \\frac{12 r_{0}^{12}}{r^{13}}\\right)$"
      ],
      "text/plain": [
       "D_e*(12*r_0**6/r**7 - 12*r_0**12/r**13)"
      ]
     },
     "execution_count": 74,
     "metadata": {},
     "output_type": "execute_result"
    }
   ],
   "source": [
    "V_LJ.diff(r)"
   ]
  },
  {
   "cell_type": "code",
   "execution_count": 75,
   "metadata": {},
   "outputs": [
    {
     "data": {
      "text/latex": [
       "$\\displaystyle D_{e} \\left(- \\frac{84 r_{0}^{6}}{r^{8}} + \\frac{156 r_{0}^{12}}{r^{14}}\\right)$"
      ],
      "text/plain": [
       "D_e*(-84*r_0**6/r**8 + 156*r_0**12/r**14)"
      ]
     },
     "execution_count": 75,
     "metadata": {},
     "output_type": "execute_result"
    }
   ],
   "source": [
    "V_LJ.diff(r).diff(r)"
   ]
  },
  {
   "cell_type": "code",
   "execution_count": 76,
   "metadata": {},
   "outputs": [],
   "source": [
    "# https://doi.org/10.1080/00268979400100494\n",
    "D_e_Ne2 = 0.34213 #kJ/mol\n",
    "r_0_Ne2 = 3.10 #Å"
   ]
  },
  {
   "cell_type": "code",
   "execution_count": 77,
   "metadata": {},
   "outputs": [],
   "source": [
    "V_LJ_Ne2 = D_e_Ne2*((r_0_Ne2/r)**12-2*(r_0_Ne2/r)**6)"
   ]
  },
  {
   "cell_type": "code",
   "execution_count": 78,
   "metadata": {},
   "outputs": [
    {
     "data": {
      "image/png": "[encoded data removed]",
      "text/plain": [
       "<Figure size 432x288 with 1 Axes>"
      ]
     },
     "metadata": {
      "needs_background": "light"
     },
     "output_type": "display_data"
    }
   ],
   "source": [
    "plotLJ = plot(V_LJ_Ne2, xlim=[1,7], ylim=[-0.5,1], \n",
    "              adaptive=False, nb_of_points=1000,\n",
    "              xlabel=r\"$r$ [Å]\", ylabel=r\"$E$ [kJ/mol]\", \n",
    "             )"
   ]
  },
  {
   "cell_type": "markdown",
   "metadata": {},
   "source": [
    "## Morse"
   ]
  },
  {
   "cell_type": "code",
   "execution_count": 79,
   "metadata": {},
   "outputs": [],
   "source": [
    "a = symbols('a')"
   ]
  },
  {
   "cell_type": "code",
   "execution_count": 80,
   "metadata": {},
   "outputs": [],
   "source": [
    "#V_M = D_e*(1 - exp(-a*(r-r_0)))**2 - D_e\n",
    "V_M = D_e*(exp(-2*a*(r-r_0))-2*exp(-a*(r-r_0)))"
   ]
  },
  {
   "cell_type": "code",
   "execution_count": 81,
   "metadata": {},
   "outputs": [
    {
     "data": {
      "text/latex": [
       "$\\displaystyle D_{e} \\left(- 2 e^{- a \\left(r - r_{0}\\right)} + e^{- 2 a \\left(r - r_{0}\\right)}\\right)$"
      ],
      "text/plain": [
       "D_e*(-2*exp(-a*(r - r_0)) + exp(-2*a*(r - r_0)))"
      ]
     },
     "execution_count": 81,
     "metadata": {},
     "output_type": "execute_result"
    }
   ],
   "source": [
    "V_M"
   ]
  },
  {
   "cell_type": "code",
   "execution_count": 82,
   "metadata": {},
   "outputs": [
    {
     "data": {
      "text/latex": [
       "$\\displaystyle D_{e} \\left(2 a e^{- a \\left(r - r_{0}\\right)} - 2 a e^{- 2 a \\left(r - r_{0}\\right)}\\right)$"
      ],
      "text/plain": [
       "D_e*(2*a*exp(-a*(r - r_0)) - 2*a*exp(-2*a*(r - r_0)))"
      ]
     },
     "execution_count": 82,
     "metadata": {},
     "output_type": "execute_result"
    }
   ],
   "source": [
    "V_M.diff(r)"
   ]
  },
  {
   "cell_type": "code",
   "execution_count": 83,
   "metadata": {},
   "outputs": [
    {
     "data": {
      "text/latex": [
       "$\\displaystyle D_{e} \\left(- 2 a^{2} e^{- a \\left(r - r_{0}\\right)} + 4 a^{2} e^{- 2 a \\left(r - r_{0}\\right)}\\right)$"
      ],
      "text/plain": [
       "D_e*(-2*a**2*exp(-a*(r - r_0)) + 4*a**2*exp(-2*a*(r - r_0)))"
      ]
     },
     "execution_count": 83,
     "metadata": {},
     "output_type": "execute_result"
    }
   ],
   "source": [
    "V_M.diff(r).diff(r)"
   ]
  },
  {
   "cell_type": "code",
   "execution_count": 115,
   "metadata": {},
   "outputs": [],
   "source": [
    "# https://doi.org/10.1098/rspa.1987.0145\n",
    "D_e_F2 = 162.7 #kJ/mol\n",
    "r_0_F2 = 1.41 #Å\n",
    "a_F2 = 2.97 #1/Å\n",
    "m_F = 0.018998 #kg/mol"
   ]
  },
  {
   "cell_type": "code",
   "execution_count": 139,
   "metadata": {},
   "outputs": [
    {
     "name": "stdout",
     "output_type": "stream",
     "text": [
      "k = 477 kJ/s²\n",
      "μ = 0.009499 kg/mol\n",
      "v = 923.0 cm⁻¹\n"
     ]
    }
   ],
   "source": [
    "k_F2 = 2*D_e_F2*1000/sc.N_A*(a_F2*10**10)**2\n",
    "print(\"k = \"+str(round(k_F2))+\" kJ/s²\")\n",
    "mu_F2 = m_F**2/(2*m_F)\n",
    "print(\"μ = \"+str(round(mu_F2,6))+\" kg/mol\")\n",
    "vi_F2 = 1/(2*np.pi*sc.c*100)*np.sqrt(k_F2/mu_F2*sc.N_A)\n",
    "print(\"v = \"+str(round(vi_F2))+\" cm⁻¹\")\n",
    "#experimental value 916.64 cm⁻¹"
   ]
  },
  {
   "cell_type": "code",
   "execution_count": 103,
   "metadata": {},
   "outputs": [],
   "source": [
    "V_M_F2 = D_e_F2*(exp(-2*a_F2*(r-r_0_F2))-2*exp(-a_F2*(r-r_0_F2)))"
   ]
  },
  {
   "cell_type": "code",
   "execution_count": 104,
   "metadata": {},
   "outputs": [
    {
     "data": {
      "image/png": "[encoded data removed]",
      "text/plain": [
       "<Figure size 432x288 with 1 Axes>"
      ]
     },
     "metadata": {
      "needs_background": "light"
     },
     "output_type": "display_data"
    }
   ],
   "source": [
    "plotM = plot(V_M_F2, xlim=[1,7], ylim=[-170,100], \n",
    "              adaptive=False, nb_of_points=1000,\n",
    "              xlabel=r\"$r$ [Å]\", ylabel=r\"$E$ [kJ/mol]\", \n",
    "             )"
   ]
  },
  {
   "cell_type": "markdown",
   "metadata": {},
   "source": [
    "## Coulomb–Pauli"
   ]
  },
  {
   "cell_type": "code",
   "execution_count": 246,
   "metadata": {},
   "outputs": [],
   "source": [
    "#V_BC = (-l*q**2/r) + b*exp(-a*(r-r_0))\n",
    "#V_BC = (-l*q**2/r) + (l*q**2/r_0**2/a)*exp(1-a*(r-r_0+1/a))\n",
    "V_BC = (-l*q**2/r)*(1 - (r/r_0**2/2/a)*exp(-2*a*(r-r_0)))"
   ]
  },
  {
   "cell_type": "code",
   "execution_count": 247,
   "metadata": {},
   "outputs": [
    {
     "data": {
      "text/latex": [
       "$\\displaystyle - \\frac{l q^{2} \\left(1 - \\frac{r e^{- 2 a \\left(r - r_{0}\\right)}}{2 a r_{0}^{2}}\\right)}{r}$"
      ],
      "text/plain": [
       "-l*q**2*(1 - r*exp(-2*a*(r - r_0))/(2*a*r_0**2))/r"
      ]
     },
     "execution_count": 247,
     "metadata": {},
     "output_type": "execute_result"
    }
   ],
   "source": [
    "V_BC"
   ]
  },
  {
   "cell_type": "code",
   "execution_count": 248,
   "metadata": {},
   "outputs": [
    {
     "data": {
      "text/latex": [
       "$\\displaystyle - \\frac{l q^{2}}{r} + \\frac{l q^{2} e^{- 2 a r + 2 a r_{0}}}{2 a r_{0}^{2}}$"
      ],
      "text/plain": [
       "-l*q**2/r + l*q**2*exp(-2*a*r + 2*a*r_0)/(2*a*r_0**2)"
      ]
     },
     "execution_count": 248,
     "metadata": {},
     "output_type": "execute_result"
    }
   ],
   "source": [
    "simplify(V_BC)"
   ]
  },
  {
   "cell_type": "code",
   "execution_count": 249,
   "metadata": {},
   "outputs": [
    {
     "data": {
      "text/latex": [
       "$\\displaystyle 0$"
      ],
      "text/plain": [
       "0"
      ]
     },
     "execution_count": 249,
     "metadata": {},
     "output_type": "execute_result"
    }
   ],
   "source": [
    "simplify(V_BC.diff(r).subs(r,r_0))"
   ]
  },
  {
   "cell_type": "code",
   "execution_count": 250,
   "metadata": {},
   "outputs": [
    {
     "data": {
      "text/latex": [
       "$\\displaystyle \\frac{2 l q^{2} \\left(a r_{0} - 1\\right)}{r_{0}^{3}}$"
      ],
      "text/plain": [
       "2*l*q**2*(a*r_0 - 1)/r_0**3"
      ]
     },
     "execution_count": 250,
     "metadata": {},
     "output_type": "execute_result"
    }
   ],
   "source": [
    "simplify(V_BC.diff(r).diff(r).subs(r,r_0))"
   ]
  },
  {
   "cell_type": "code",
   "execution_count": 239,
   "metadata": {},
   "outputs": [],
   "source": [
    "# https://webbook.nist.gov/cgi/cbook.cgi?ID=C7681494&Mask=1E9F\n",
    "# https://doi.org/10.1051/0004-6361/201936230\n",
    "r_0_NaF = 1.926 #Å\n",
    "IA = 496 - 328 #kJ/mol\n",
    "D_e_NaF = 478 #kJ/mol\n",
    "q_NaF = 1 #e\n",
    "l_NaF = 1389 #kJ/mol·Å\n",
    "a_NaF = 2.5 #1/Å #NB! empirical value is 2.5\n",
    "b_NaF = l_NaF*q_NaF**2/r_0_NaF**2/a_NaF\n",
    "hline = -D_e_NaF + r - r_0_NaF\n",
    "vline = (r-r_0_NaF)*100000"
   ]
  },
  {
   "cell_type": "code",
   "execution_count": 252,
   "metadata": {},
   "outputs": [
    {
     "name": "stdout",
     "output_type": "stream",
     "text": [
      "k = 246 kJ/s²\n",
      "μ = 0.010403 kg/mol\n",
      "v = 634.0 cm⁻¹\n"
     ]
    }
   ],
   "source": [
    "k_NaF = 2*l_NaF/10**10*1000/(sc.N_A)*q_NaF**2/(r_0_NaF/10**10)**3*(r_0_NaF*a_NaF-1)\n",
    "print(\"k = \"+str(round(k_NaF))+\" kJ/s²\")\n",
    "mu_NaF = 22.99*19.00/(22.99+19.00)/1000\n",
    "print(\"μ = \"+str(round(mu_NaF,6))+\" kg/mol\")\n",
    "vi_NaF = 1/(2*np.pi*sc.c*100)*np.sqrt(k_NaF/mu_NaF*sc.N_A)\n",
    "print(\"v = \"+str(round(vi_NaF))+\" cm⁻¹\")\n",
    "#experimental value 916.64 cm⁻¹"
   ]
  },
  {
   "cell_type": "code",
   "execution_count": 253,
   "metadata": {},
   "outputs": [],
   "source": [
    "#V_BC_NaF = (-l_NaF*q_NaF**2/r) + b_NaF*exp(1-a_NaF*(r-r_0_NaF+1/a_NaF))+IA\n",
    "V_BC_NaF = (-l_NaF*q_NaF**2/r)*(1 - (r/r_0_NaF**2/2/a_NaF)*exp(-2*a_NaF*(r-r_0_NaF))) + IA"
   ]
  },
  {
   "cell_type": "code",
   "execution_count": 254,
   "metadata": {},
   "outputs": [
    {
     "data": {
      "image/png": "[encoded data removed]",
      "text/plain": [
       "<Figure size 432x288 with 1 Axes>"
      ]
     },
     "metadata": {
      "needs_background": "light"
     },
     "output_type": "display_data"
    }
   ],
   "source": [
    "plotBC = plot(V_BC_NaF, hline, vline, xlim=[0.5,9], ylim=[-600,100], \n",
    "              adaptive=False, nb_of_points=1000,\n",
    "              xlabel=r\"$r$ [Å]\", ylabel=r\"$E$ [kJ/mol]\", \n",
    "             )"
   ]
  },
  {
   "cell_type": "markdown",
   "metadata": {},
   "source": [
    "## Harmonic oscillator potential"
   ]
  },
  {
   "cell_type": "code",
   "execution_count": 255,
   "metadata": {},
   "outputs": [],
   "source": [
    "k = symbols('k')"
   ]
  },
  {
   "cell_type": "code",
   "execution_count": 256,
   "metadata": {},
   "outputs": [],
   "source": [
    "V_HO = 1/2*k*(r-r_0)**2 - D_e"
   ]
  },
  {
   "cell_type": "code",
   "execution_count": 257,
   "metadata": {},
   "outputs": [
    {
     "data": {
      "text/latex": [
       "$\\displaystyle - D_{e} + 0.5 k \\left(r - r_{0}\\right)^{2}$"
      ],
      "text/plain": [
       "-D_e + 0.5*k*(r - r_0)**2"
      ]
     },
     "execution_count": 257,
     "metadata": {},
     "output_type": "execute_result"
    }
   ],
   "source": [
    "V_HO"
   ]
  },
  {
   "cell_type": "code",
   "execution_count": 258,
   "metadata": {},
   "outputs": [
    {
     "data": {
      "text/latex": [
       "$\\displaystyle 0.5 k \\left(2 r - 2 r_{0}\\right)$"
      ],
      "text/plain": [
       "0.5*k*(2*r - 2*r_0)"
      ]
     },
     "execution_count": 258,
     "metadata": {},
     "output_type": "execute_result"
    }
   ],
   "source": [
    "V_HO.diff(r)"
   ]
  },
  {
   "cell_type": "code",
   "execution_count": 259,
   "metadata": {},
   "outputs": [
    {
     "data": {
      "text/latex": [
       "$\\displaystyle 1.0 k$"
      ],
      "text/plain": [
       "1.0*k"
      ]
     },
     "execution_count": 259,
     "metadata": {},
     "output_type": "execute_result"
    }
   ],
   "source": [
    "V_HO.diff(r).diff(r)"
   ]
  },
  {
   "cell_type": "markdown",
   "metadata": {},
   "source": [
    "## Universal potential"
   ]
  },
  {
   "cell_type": "code",
   "execution_count": 260,
   "metadata": {},
   "outputs": [],
   "source": [
    "V_U = -a*D_e*(r+1/a-r_0)*exp(1-a*(r+1/a-r_0))"
   ]
  },
  {
   "cell_type": "code",
   "execution_count": 261,
   "metadata": {},
   "outputs": [
    {
     "data": {
      "text/latex": [
       "$\\displaystyle - D_{e} \\left(a \\left(r - r_{0}\\right) + 1\\right) e^{- a \\left(r - r_{0}\\right)}$"
      ],
      "text/plain": [
       "-D_e*(a*(r - r_0) + 1)*exp(-a*(r - r_0))"
      ]
     },
     "execution_count": 261,
     "metadata": {},
     "output_type": "execute_result"
    }
   ],
   "source": [
    "simplify(V_U)"
   ]
  },
  {
   "cell_type": "code",
   "execution_count": 262,
   "metadata": {},
   "outputs": [
    {
     "data": {
      "text/latex": [
       "$\\displaystyle D_{e} a^{2} \\left(r - r_{0}\\right) e^{- a \\left(r - r_{0}\\right)}$"
      ],
      "text/plain": [
       "D_e*a**2*(r - r_0)*exp(-a*(r - r_0))"
      ]
     },
     "execution_count": 262,
     "metadata": {},
     "output_type": "execute_result"
    }
   ],
   "source": [
    "simplify(V_U.diff(r))"
   ]
  },
  {
   "cell_type": "code",
   "execution_count": 263,
   "metadata": {},
   "outputs": [
    {
     "data": {
      "text/latex": [
       "$\\displaystyle - D_{e} a^{3} \\left(r - r_{0} + \\frac{1}{a}\\right) e^{- a \\left(r - r_{0} + \\frac{1}{a}\\right) + 1} + 2 D_{e} a^{2} e^{- a \\left(r - r_{0} + \\frac{1}{a}\\right) + 1}$"
      ],
      "text/plain": [
       "-D_e*a**3*(r - r_0 + 1/a)*exp(-a*(r - r_0 + 1/a) + 1) + 2*D_e*a**2*exp(-a*(r - r_0 + 1/a) + 1)"
      ]
     },
     "execution_count": 263,
     "metadata": {},
     "output_type": "execute_result"
    }
   ],
   "source": [
    "V_U.diff(r).diff(r)"
   ]
  },
  {
   "cell_type": "code",
   "execution_count": 274,
   "metadata": {},
   "outputs": [],
   "source": [
    "# https://doi.org/10.1139/cjp-2016-0438\n",
    "# https://webbook.nist.gov/cgi/inchi?ID=C25681792&Mask=1000#Diatomic\n",
    "r_0_Na2 = 3.08 # Å\n",
    "D_e_Na2 = 81.7 # kJ/mol\n",
    "a_Na2 = 1.125"
   ]
  },
  {
   "cell_type": "code",
   "execution_count": 275,
   "metadata": {},
   "outputs": [],
   "source": [
    "V_U_Na2 = -a_Na2*D_e_Na2*(r+1/a_Na2-r_0_Na2)*exp(1-a_Na2*(r+1/a_Na2-r_0_Na2))"
   ]
  },
  {
   "cell_type": "code",
   "execution_count": 276,
   "metadata": {},
   "outputs": [
    {
     "data": {
      "image/png": "[encoded data removed]",
      "text/plain": [
       "<Figure size 432x288 with 1 Axes>"
      ]
     },
     "metadata": {
      "needs_background": "light"
     },
     "output_type": "display_data"
    }
   ],
   "source": [
    "plotU = plot(V_U_Na2, xlim=[0.5,6], ylim=[-100,100], \n",
    "             adaptive=False, nb_of_points=1000,\n",
    "             xlabel=r\"$r$ [Å]\", ylabel=r\"$E$ [kJ/mol]\", \n",
    "            )"
   ]
  },
  {
   "cell_type": "code",
   "execution_count": 277,
   "metadata": {},
   "outputs": [
    {
     "data": {
      "image/png": "[encoded data removed]",
      "text/plain": [
       "<Figure size 432x288 with 1 Axes>"
      ]
     },
     "metadata": {
      "needs_background": "light"
     },
     "output_type": "display_data"
    }
   ],
   "source": [
    "plotAll = plot(V_LJ_Ne2, V_M_F2, V_BC_NaF, V_U_Na2, \n",
    "               xlim=[0.5,5], ylim=[-500,100], \n",
    "               adaptive=False, nb_of_points=1000,\n",
    "               xlabel=r\"$r$ [Å]\", ylabel=r\"$E$ [kJ/mol]\",\n",
    "               show=false,\n",
    "              )\n",
    "plotAll[0].line_color = 'k'\n",
    "plotAll[1].line_color = 'r'\n",
    "plotAll[2].line_color = 'b'\n",
    "plotAll[3].line_color = 'g'\n",
    "plotAll.show()"
   ]
  },
  {
   "cell_type": "code",
   "execution_count": null,
   "metadata": {},
   "outputs": [],
   "source": []
  },
  {
   "cell_type": "code",
   "execution_count": null,
   "metadata": {},
   "outputs": [],
   "source": []
  },
  {
   "cell_type": "code",
   "execution_count": null,
   "metadata": {},
   "outputs": [],
   "source": []
  }
 ],
 "metadata": {
  "kernelspec": {
   "display_name": "Python 3",
   "language": "python",
   "name": "python3"
  },
  "language_info": {
   "codemirror_mode": {
    "name": "ipython",
    "version": 3
   },
   "file_extension": ".py",
   "mimetype": "text/x-python",
   "name": "python",
   "nbconvert_exporter": "python",
   "pygments_lexer": "ipython3",
   "version": "3.7.3"
  }
 },
 "nbformat": 4,
 "nbformat_minor": 4
}
